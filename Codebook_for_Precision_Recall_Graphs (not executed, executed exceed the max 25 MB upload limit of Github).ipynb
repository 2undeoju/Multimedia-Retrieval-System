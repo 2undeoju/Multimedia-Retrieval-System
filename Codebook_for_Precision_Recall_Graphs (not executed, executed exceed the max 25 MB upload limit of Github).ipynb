{
 "cells": [
  {
   "cell_type": "markdown",
   "id": "44a8f8aa",
   "metadata": {},
   "source": [
    "# Retrieval System for Music Data"
   ]
  },
  {
   "cell_type": "markdown",
   "id": "d48512b4",
   "metadata": {},
   "source": [
    "### Importing necessary libraries"
   ]
  },
  {
   "cell_type": "code",
   "execution_count": 1,
   "id": "f6341732",
   "metadata": {},
   "outputs": [],
   "source": [
    "#Importing necessary libraries\n",
    "from ast import literal_eval\n",
    "from tqdm import tqdm\n",
    "import pandas as pd\n",
    "import numpy as np\n",
    "import random\n",
    "from sklearn.decomposition import PCA\n",
    "from sklearn.metrics.pairwise import cosine_similarity, euclidean_distances\n",
    "from sklearn.metrics import ndcg_score\n",
    "import matplotlib.pyplot as plt\n",
    "from IPython.display import display, HTML\n",
    "import ipywidgets as widgets\n",
    "from IPython.display import display as ipy_display\n",
    "from IPython.display import display, clear_output\n",
    "from ipywidgets import Output\n",
    "from ipywidgets import HBox"
   ]
  },
  {
   "cell_type": "markdown",
   "id": "2d9e8058",
   "metadata": {},
   "source": [
    "### Loading Datasets"
   ]
  },
  {
   "cell_type": "code",
   "execution_count": 2,
   "id": "ec384c8d",
   "metadata": {
    "scrolled": true
   },
   "outputs": [],
   "source": [
    "# Load the datasets with the 'id' column as the index\n",
    "tfidf_data = pd.read_csv('id_lyrics_tf-idf_mmsr.tsv', sep='\\t', index_col='id')\n",
    "bert_data = pd.read_csv('id_lyrics_bert_mmsr.tsv', sep='\\t', index_col='id')\n",
    "word2vec_data = pd.read_csv('id_lyrics_word2vec_mmsr.tsv', sep='\\t', index_col='id')\n",
    "info_data = pd.read_csv('id_information_mmsr.tsv', sep='\\t')\n",
    "info_data.head(3)\n",
    "\n",
    "data_mfcc_bow = pd.read_csv('id_mfcc_bow_mmsr.tsv', sep='\\t')\n",
    "data_mfcc_bow = data_mfcc_bow.set_index('id')\n",
    "\n",
    "# data_mfcc_bow.set_index(data_mfcc_bow.columns[0], inplace=True)\n",
    "\n",
    "\n",
    "id_ivec256_mmsr = pd.read_csv('id_ivec256_mmsr.tsv', sep='\\t')\n",
    "id_ivec256_mmsr.set_index(id_ivec256_mmsr.columns[0], inplace=True)\n",
    "\n",
    "id_ivec512_mmsr = pd.read_csv('id_ivec512_mmsr.tsv', sep='\\t')\n",
    "\n",
    "\n",
    "id_blf_correlation_mmsr = pd.read_csv('id_blf_correlation_mmsr.tsv', sep='\\t')\n",
    "id_blf_spectral_mmsr = pd.read_csv('id_blf_spectral_mmsr.tsv', sep='\\t')\n",
    "\n",
    "id_blf_spectral_mmsr.set_index(id_blf_spectral_mmsr.columns[0], inplace=True)\n",
    "\n",
    "id_musicnn_mmsr = pd.read_csv('id_musicnn_mmsr.tsv', sep='\\t')\n",
    "id_musicnn_mmsr.set_index(id_musicnn_mmsr.columns[0], inplace=True)\n",
    "\n",
    "id_incp_mmsr = pd.read_csv('id_incp_mmsr.tsv', sep='\\t')\n",
    "id_incp_mmsr = id_incp_mmsr.set_index('id')\n",
    "\n",
    "id_resnet_mmsr = pd.read_csv('id_resnet_mmsr.tsv', sep='\\t')\n",
    "id_resnet_mmsr = id_resnet_mmsr.set_index('id')\n",
    "\n",
    "id_url_mmsr = pd.read_csv('id_url_mmsr.tsv', sep='\\t')\n",
    "\n",
    "id_vgg19_mmsr = pd.read_csv('id_vgg19_mmsr.tsv', sep='\\t')\n",
    "id_vgg19_mmsr = id_vgg19_mmsr.set_index('id')\n",
    "\n",
    "data_id_genres = pd.read_csv('id_genres_mmsr.tsv', sep='\\t')\n",
    "data_id_genres  = data_id_genres .set_index(‘id')"
   ]
  },
  {
   "cell_type": "markdown",
   "id": "9454acc7",
   "metadata": {},
   "source": [
    "### Defining the Four Test-Based Similarity Retrieval Systems"
   ]
  },
  {
   "cell_type": "code",
   "execution_count": 5,
   "id": "8ae0b2f6",
   "metadata": {},
   "outputs": [],
   "source": [
    "# Random Similarity\n",
    "def random_song(song_id, other_song_id, data):\n",
    "    return random.random()\n",
    "\n",
    "# Jaccard Similarity\n",
    "def jaccard_similarity(id1, id2, tfidf_data):\n",
    "    vec1 = tfidf_data.loc[id1].astype(bool).values\n",
    "    vec2 = tfidf_data.loc[id2].astype(bool).values\n",
    "    intersection = np.sum(vec1 & vec2)\n",
    "    union = np.sum(vec1 | vec2)\n",
    "    return intersection / union if union != 0 else 0\n",
    "\n",
    "# Cosine Similarity for Word2Vec and TF-IDF\n",
    "def cosine_similarity_between_songs(id1, id2, embedding_data):\n",
    "    vec1 = embedding_data.loc[id1].values.reshape(1, -1)\n",
    "    vec2 = embedding_data.loc[id2].values.reshape(1, -1)\n",
    "    return cosine_similarity(vec1, vec2)[0][0]\n",
    "\n",
    "\n",
    "\n",
    "def retrieve_similar_songs(song_id, embedding_data, similarity_function, info_data, top_n=10095):\n",
    "    similarities = {}\n",
    "    \n",
    "    for other_song_id in tqdm(embedding_data.index, desc=\"Calculating similarities\"):\n",
    "        if other_song_id != song_id:\n",
    "            similarity = similarity_function(song_id, other_song_id, embedding_data)\n",
    "            similarities[other_song_id] = similarity\n",
    "            \n",
    "    sorted_similarities = sorted(similarities.items(), key=lambda item: item[1], reverse=True)[:top_n]\n",
    "    sorted_ids = [song_id for song_id, _ in sorted_similarities]\n",
    "\n",
    "    similar_songs_info = info_data[info_data['id'].isin(sorted_ids)]\n",
    "\n",
    "    similarities_df = pd.DataFrame(sorted_similarities, columns=['id', 'similarity_score']).set_index('id')\n",
    "\n",
    "    similar_songs_info = similar_songs_info.join(similarities_df, on='id')\n",
    "    similar_songs_info = similar_songs_info.sort_values(by='similarity_score', ascending=False)\n",
    "\n",
    "    return similar_songs_info"
   ]
  },
  {
   "cell_type": "markdown",
   "id": "21229dd6",
   "metadata": {},
   "source": [
    "### Whether it has matching genre "
   ]
  },
  {
   "cell_type": "code",
   "execution_count": null,
   "id": "1fd3edc7",
   "metadata": {},
   "outputs": [],
   "source": [
    "def has_matching_genre(track_genres, query_genre):\n",
    "    return not set(track_genres).isdisjoint(query_genre)"
   ]
  },
  {
   "cell_type": "markdown",
   "id": "757e386d",
   "metadata": {},
   "source": [
    "## Precision - Recall Calculation"
   ]
  },
  {
   "cell_type": "code",
   "execution_count": null,
   "id": "4e36f09e",
   "metadata": {},
   "outputs": [],
   "source": [
    "def calculate_precision_recall(retrieved_tracks, query_track_genres):\n",
    "    precision_at_k = []\n",
    "    recall_at_k = []\n",
    "\n",
    "    for query_id, query_genres in query_track_genres.items():\n",
    "        # Find all matches in the dataset\n",
    "        matches = data_id_genres['genre'].apply(lambda x: has_matching_genre(x, query_genres))\n",
    "        matching_tracks = data_id_genres[matches]\n",
    "        all_relevant = len(matching_tracks)\n",
    "\n",
    "        for k in tqdm(range(1, len(retrieved_tracks) + 1), \"Calculating precision and recall\"):\n",
    "            top_k_retrieved = retrieved_tracks.head(k)\n",
    "            num_relevant = top_k_retrieved['genre'].apply(lambda genres: bool(set(genres) & set(query_genres))).sum()\n",
    "\n",
    "            precision = num_relevant / k\n",
    "            recall = num_relevant / all_relevant if all_relevant else 0\n",
    "\n",
    "            precision_at_k.append(precision)\n",
    "            recall_at_k.append(recall)\n",
    "\n",
    "    return precision_at_k, recall_at_k"
   ]
  },
  {
   "cell_type": "markdown",
   "id": "c1b495f3",
   "metadata": {},
   "source": [
    "## Random retrieval for a list of queries"
   ]
  },
  {
   "cell_type": "code",
   "execution_count": null,
   "id": "395af9fd",
   "metadata": {},
   "outputs": [],
   "source": [
    "def random_top(ids, info_data, top_n = 100):\n",
    "    results_by_id={}\n",
    "    \n",
    "    for query_song_id in tqdm(ids, desc=\"Finding similar songs\"):\n",
    "        \n",
    "        random_similar_songs = info_data.sample(top_n)\n",
    "        \n",
    "        results_by_id[query_song_id] = random_similar_songs\n",
    "        \n",
    "    return results_by_id"
   ]
  },
  {
   "cell_type": "code",
   "execution_count": null,
   "id": "97ec28a5",
   "metadata": {},
   "outputs": [],
   "source": [
    "import random \n",
    "random.seed(123)\n",
    "\n",
    "#Sampling 400 queries from the info_data, it also ran for 9 hours\n",
    "#just the preparation of these datasets \n",
    "\n",
    "\n",
    "select_ids = info_data[‘id'].sample(400)"
   ]
  },
  {
   "cell_type": "code",
   "execution_count": null,
   "id": "a62475d1",
   "metadata": {},
   "outputs": [],
   "source": [
    "top_100_similar_random = random_top(select_ids, info_data, top_n = 100)"
   ]
  },
  {
   "cell_type": "markdown",
   "id": "9cc9ad26",
   "metadata": {},
   "source": [
    "## Retrieval for a list of queries using various methods"
   ]
  },
  {
   "cell_type": "code",
   "execution_count": null,
   "id": "368cec69",
   "metadata": {},
   "outputs": [],
   "source": [
    "def similar_songs_top(ids, embedding_data, similarity, info_data, top_n=100):\n",
    "    results_by_id = {}\n",
    "\n",
    "    for song_id in tqdm(ids, desc=\"Finding similar songs\"):\n",
    "        # Retrieve top 100 similar songs for the current song_id using TF-IDF\n",
    "        similar_songs = retrieve_similar_songs(song_id, embedding_data, similarity, info_data, top_n=100)\n",
    "        # Assign the result to a dictionary keyed by song_id\n",
    "        results_by_id[song_id] = similar_songs\n",
    "    \n",
    "    return results_by_id"
   ]
  },
  {
   "cell_type": "code",
   "execution_count": null,
   "id": "702d4d61",
   "metadata": {},
   "outputs": [],
   "source": [
    "#For all of pure text, audio, vieo-based Retrieval Systems, \n",
    "#running it for a sample of 400 songs, to get an overview \n",
    "\n",
    "top_100_similar_songs_tfidf = similar_songs_top(select_ids,tfidf_data, cosine_similarity_between_songs, info_data)\n",
    "\n",
    "top_100_similar_songs_word2vec = similar_songs_top(select_ids,word2vec_data, cosine_similarity_between_songs, info_data)\n",
    "\n",
    "top_100_similar_songs_jaccard_tfidf = similar_songs_top(select_ids,tfidf_data, jaccard_similarity, info_data)\n",
    "\n",
    "top_100_similar_songs_mfcc_bow = similar_songs_top(select_ids,data_mfcc_bow, cosine_similarity_between_songs, info_data)\n",
    "\n",
    "top_100_similar_songs_id_ivec256 = similar_songs_top(select_ids,id_ivec256_mmsr, cosine_similarity_between_songs, info_data)\n",
    "\n",
    "top_100_similar_songs_id_blf_spectral = similar_songs_top(select_ids,id_blf_spectral_mmsr, cosine_similarity_between_songs, info_data)\n",
    "\n",
    "top_100_similar_songs_id_musicnn = similar_songs_top(select_ids,id_musicnn_mmsr, cosine_similarity_between_songs, info_data)\n",
    "\n",
    "top_100_similar_songs_id_incp = similar_songs_top(select_ids,id_incp_mmsr, cosine_similarity_between_songs, info_data)\n",
    "\n",
    "top_100_similar_songs_id_resnet = similar_songs_top(select_ids,id_resnet_mmsr, cosine_similarity_between_songs, info_data)\n",
    "\n",
    "top_100_similar_songs_id_vgg19 = similar_songs_top(select_ids,id_vgg19_mmsr, cosine_similarity_between_songs, info_data)"
   ]
  },
  {
   "cell_type": "markdown",
   "id": "99a31f5f",
   "metadata": {},
   "source": [
    "### Saving the 100 songs retrieved by the distinct methods for various queries "
   ]
  },
  {
   "cell_type": "code",
   "execution_count": null,
   "id": "4bef2326",
   "metadata": {},
   "outputs": [],
   "source": [
    "import pickle \n",
    "\n",
    "saving_path = '/Users/user/Desktop/Multimedia/'\n",
    "\n",
    "\n",
    "data_to_save = {\n",
    "    'top_100_similar_songs_tfidf' : top_100_similar_songs_tfidf,\n",
    "    'top_100_similar_songs_word2vec': top_100_similar_songs_word2vec,\n",
    "    'top_100_similar_songs_jaccard_tfidf' : top_100_similar_songs_jaccard_tfidf,\n",
    "    'top_100_similar_songs_mfcc_bow': top_100_similar_songs_mfcc_bow,\n",
    "    'top_100_similar_songs_id_ivec256' : top_100_similar_songs_id_ivec256,\n",
    "    'top_100_similar_songs_id_blf_spectral': top_100_similar_songs_id_blf_spectral,\n",
    "    'top_100_similar_songs_id_musicnn' : top_100_similar_songs_id_musicnn,\n",
    "    'top_100_similar_songs_id_incp': top_100_similar_songs_id_incp,\n",
    "    'top_100_similar_songs_id_resnet': top_100_similar_songs_id_resnet,\n",
    "    'top_100_similar_songs_id_vgg19 ' : top_100_similar_songs_id_vgg19\n",
    "    }\n",
    "\n",
    "for dataset_name, dataset in data_to_save.items():\n",
    "    paths_to_dataset = f'{saving_path}{dataset_name}.pkl'\n",
    "    with open(paths_to_dataset, 'wb') as file: \n",
    "        pickle.dump(dataset, file)"
   ]
  },
  {
   "cell_type": "markdown",
   "id": "7bab70ae",
   "metadata": {},
   "source": [
    "## Calculating precision and recall for all methods, averaging the results over the various queries, k = 1, ..., 100"
   ]
  },
  {
   "cell_type": "code",
   "execution_count": null,
   "id": "ae664dc7",
   "metadata": {},
   "outputs": [],
   "source": [
    "def calculate_recall_precision_new_way(similar_songs_dataset, data_id_genres, query_ids,top_n=100):\n",
    "    \n",
    "    precision_df = pd.DataFrame(columns=range(100))\n",
    "    recall_df = pd.DataFrame(columns=range(100))\n",
    "\n",
    "    for query_id in tqdm(query_ids):\n",
    "        query_genres = data_id_genres.loc[query_id]\n",
    "        #print(query_genres)\n",
    "\n",
    "\n",
    "        method_songs = similar_songs_dataset[query_id]\n",
    "        #print(method_songs)\n",
    "        #print(type(method_songs))\n",
    "\n",
    "\n",
    "        retrieved = pd.DataFrame()\n",
    "\n",
    "        for song_id in method_songs['id'].head(top_n):\n",
    "            try:\n",
    "                genre_data = data_id_genres.loc[[song_id]] \n",
    "                retrieved = pd.concat([retrieved, genre_data])\n",
    "            except KeyError:\n",
    "                continue\n",
    "\n",
    "        precision, recall = calculate_precision_recall(retrieved, query_genres)\n",
    "        \n",
    "        precision_df.loc[query_id] = precision + [None] * (top_n - len(precision))\n",
    "        recall_df.loc[query_id] = recall + [None] * (top_n - len(recall))\n",
    "\n",
    "        \n",
    "        #print(precision_df)\n",
    "        \n",
    "        average_precision = precision_df.mean()\n",
    "        average_precision_df = pd.DataFrame(average_precision).transpose()\n",
    "        \n",
    "        average_recall = recall_df.mean()\n",
    "        average_recall_df = pd.DataFrame(average_recall).transpose()\n",
    "\n",
    "        \n",
    "    return precision_df, recall_df, average_precision_df, average_recall_df"
   ]
  },
  {
   "cell_type": "code",
   "execution_count": null,
   "id": "d8213da7",
   "metadata": {},
   "outputs": [],
   "source": [
    "## Random\n",
    "\n",
    "precision_df_random, recall_df_random, average_precision_df_random, average_recall_df_random = calculate_recall_precision_new_way(top_100_similar_random, data_id_genres, select_ids,top_n=100)\n",
    "\n",
    "\n",
    "## Text - based \n",
    "\n",
    "\n",
    "precision_df_tfidf, recall_df_tfidf, average_precision_df_tfidf, average_recall_df_tfidf = calculate_recall_precision_new_way(top_100_similar_songs_tfidf, data_id_genres, select_ids,top_n=100)\n",
    "\n",
    "precision_df_jaccard_tfidf, recall_df_jaccard_tfidf, average_precision_df_jaccard_tfidf, average_recall_df_jaccard_tfidf = calculate_recall_precision_new_way(top_100_similar_songs_jaccard_tfidf, data_id_genres, select_ids,top_n=100)\n",
    "\n",
    "precision_df_word2vec, recall_df_word2vec, average_precision_df_word2vec, average_recall_df_tword2vec = calculate_recall_precision_new_way(top_100_similar_songs_word2vec, data_id_genres, select_ids,top_n=100)\n",
    "\n",
    "## Audio - based \n",
    "\n",
    "precision_df_mfcc_bow, recall_df_mfcc_bow, average_precision_df_mfcc_bow, average_recall_df_mfcc_bow = calculate_recall_precision_new_way(top_100_similar_songs_mfcc_bow, data_id_genres, select_ids,top_n=100)\n",
    "\n",
    "precision_df_id_ivec256, recall_df_id_ivec256, average_precision_df_id_ivec256, average_recall_df_id_ivec256 = calculate_recall_precision_new_way(top_100_similar_songs_id_ivec256, data_id_genres, select_ids,top_n=100)\n",
    "\n",
    "precision_df_blf_spectral, recall_df_blf_spectral, average_precision_df_blf_spectral, average_recall_df_blf_spectral = calculate_recall_precision_new_way(top_100_similar_songs_id_blf_spectral, data_id_genres, select_ids,top_n=100)\n",
    "\n",
    "precision_df_id_musicnn, recall_df_id_musicnn, average_precision_df_id_musicnn, average_recall_df_id_musicnn = calculate_recall_precision_new_way(top_100_similar_songs_id_musicnn, data_id_genres, select_ids,top_n=100)\n",
    "\n",
    "## Video - based \n",
    "\n",
    "precision_df_id_incp, recall_df_id_incp, average_precision_df_id_incp, average_recall_df_id_incp = calculate_recall_precision_new_way(top_100_similar_songs_id_incp, data_id_genres, select_ids,top_n=100)\n",
    "\n",
    "precision_df_id_resnet, recall_df_id_resnet, average_precision_df_id_resnet, average_recall_df_id_resnet = calculate_recall_precision_new_way(top_100_similar_songs_id_resnet, data_id_genres, select_ids,top_n=100)\n",
    "\n",
    "precision_df_id_vgg19, recall_df_id_vgg19, average_precision_df_id_vgg19, average_recall_df_id_vgg19 = calculate_recall_precision_new_way(top_100_similar_songs_id_vgg19, data_id_genres, select_ids,top_n=100)"
   ]
  },
  {
   "cell_type": "code",
   "execution_count": null,
   "id": "2c01ac90",
   "metadata": {},
   "outputs": [],
   "source": [
    "# Just experimenting with both dataframe and list format \n",
    "\n",
    "average_precision_df_random = average_precision_df_random.iloc[0].tolist()\n",
    "average_recall_df_random= average_recall_df_random.iloc[0].tolist()\n",
    "average_precision_df_tfidf = average_precision_df_tfidf.iloc[0].tolist()\n",
    "average_recall_df_tfidf = average_recall_df_tfidf.iloc[0].tolist()\n",
    "average_precision_df_word2vec = average_precision_df_word2vec.iloc[0].tolist()\n",
    "average_recall_df_word2vec = average_recall_df_word2vec.iloc[0].tolist()\n",
    "average_precision_df_jaccard_tfidf = average_precision_df_jaccard_tfidf.iloc[0].tolist()\n",
    "average_recall_df_jaccard_tfidf = average_recall_df_jaccard_tfidf.iloc[0].tolist()\n",
    "average_precision_df_mfcc_bow = average_precision_df_mfcc_bow.iloc[0].tolist()\n",
    "average_recall_df_mfcc_bow = average_recall_df_mfcc_bow.iloc[0].tolist()\n",
    "average_precision_df_id_ivec256 = average_precision_df_id_ivec256.iloc[0].tolist()\n",
    "average_recall_df_id_ivec256 = average_recall_df_id_ivec256.iloc[0].tolist()\n",
    "average_precision_df_blf_spectral = average_precision_df_blf_spectral.iloc[0].tolist()\n",
    "average_recall_df_blf_spectral = average_recall_df_blf_spectral.iloc[0].tolist()\n",
    "average_precision_df_id_musicnn = average_precision_df_id_musicnn.iloc[0].tolist()\n",
    "average_recall_df_id_musicnn = average_recall_df_id_musicnn.iloc[0].tolist()\n",
    "average_precision_df_id_incp = average_precision_df_id_incp.iloc[0].tolist()\n",
    "average_recall_df_id_incp = average_recall_df_id_incp.iloc[0].tolist()\n",
    "average_precision_df_id_resnet = average_precision_df_id_resnet.iloc[0].tolist()\n",
    "average_recall_df_id_resnet = average_recall_df_id_resnet.iloc[0].tolist()\n",
    "average_precision_df_id_vgg19 = average_precision_df_id_vgg19.iloc[0].tolist()\n",
    "average_recall_df_id_vgg19 = average_recall_df_id_vgg19.iloc[0].tolist()"
   ]
  },
  {
   "cell_type": "markdown",
   "id": "281ab216",
   "metadata": {},
   "source": [
    "### Saving all average precision datasets computed till now"
   ]
  },
  {
   "cell_type": "code",
   "execution_count": null,
   "id": "5cfc055c",
   "metadata": {},
   "outputs": [],
   "source": [
    "retrieval_systems_precision = {\n",
    "    'word2vec': average_precision_df_word2vec,\n",
    "    'cos_tfidf': average_precision_df_tfidf,\n",
    "    'jacc_tf_idf': average_precision_df_jaccard_tfidf,\n",
    "    'mfcc_bow': average_precision_df_mfcc_bow,\n",
    "    'id_ivec256':average_precision_df_id_ivec256,\n",
    "    'blf_spectral': average_precision_df_blf_spectral,\n",
    "    'id_musicNN':average_precision_df_id_musicnn, \n",
    "    'id_incp': average_precision_df_id_incp,\n",
    "    'id_resnet': average_precision_df_id_resnet,\n",
    "    'id_vgg19': average_precision_df_id_vgg19\n",
    "}\n",
    "\n",
    "saving_path = '/Users/user/Desktop/Multimedia/'\n",
    "\n",
    "for retrieval_system, precision_averages in retrieval_systems_precision.items():\n",
    "    df = pd.DataFrame(precision_averages)\n",
    "    file_path = f'{saving_path}{retrieval_system}_average_precision'\n",
    "    df.to_csv(file_path, index = False)"
   ]
  },
  {
   "cell_type": "markdown",
   "id": "ccccc0d7",
   "metadata": {},
   "source": [
    "### Saving all average recall datasets computed till now"
   ]
  },
  {
   "cell_type": "code",
   "execution_count": null,
   "id": "637d562a",
   "metadata": {},
   "outputs": [],
   "source": [
    "retrieval_systems_recall = {\n",
    "    'word2vec': average_recall_df_word2vec,\n",
    "    'cos_tfidf': average_recall_df_tfidf,\n",
    "    'jacc_tf_idf': average_recall_df_jaccard_tfidf,\n",
    "    'mfcc_bow': average_recall_df_mfcc_bow,\n",
    "    'id_ivec256':average_recall_df_id_ivec256,\n",
    "    'blf_spectral': average_recall_df_blf_spectral,\n",
    "    'id_musicNN':average_recall_df_id_musicnn, \n",
    "    'id_incp': average_recall_df_id_incp,\n",
    "    'id_resnet': average_recall_df_id_resnet,\n",
    "    'id_vgg19': average_recall_df_id_vgg19\n",
    "}\n",
    "\n",
    "saving_path = '/Users/user/Desktop/Multimedia/'\n",
    "\n",
    "for retrieval_system, recall_averages in retrieval_systems_recall.items():\n",
    "    df = pd.DataFrame(recall_averages)\n",
    "    file_path = f'{saving_path}{retrieval_system}_average_recall'\n",
    "    df.to_csv(file_path, index = False)"
   ]
  },
  {
   "cell_type": "markdown",
   "id": "3c8dabac",
   "metadata": {},
   "source": [
    "## Plotting average precision and recall values against each other in one plot for all retreival systems\n"
   ]
  },
  {
   "cell_type": "code",
   "execution_count": null,
   "id": "f01eb161",
   "metadata": {},
   "outputs": [],
   "source": [
    "plt.plot(average_recall_df_random, average_precision_df_random, label = 'Random')\n",
    "plt.text(average_recall_df_random[-5],average_precision_df_random[-5], 'random', va = 'baseline')\n",
    "plt.plot(average_recall_df_word2vec, average_precision_df_word2vec, label = 'Word2vec')\n",
    "plt.plot(average_recall_df_tfidf, average_precision_df_tfidf, label = 'Cosine Similarity: Tf-Idf')\n",
    "plt.plot(average_recall_df_jaccard_tfidf, average_precision_df_jaccard_tfidf, label = 'Jaccard Similarity: Tf-Idf')\n",
    "plt.plot(average_recall_df_mfcc_bow, average_precision_df_mfcc_bow, label = 'MFCC-BoW')\n",
    "plt.plot(average_recall_df_id_ivec256, average_precision_df_id_ivec256, label = 'id_ivec256')\n",
    "plt.plot(average_recall_df_blf_spectral, average_precision_df_blf_spectral, label = 'Blf-spectral')\n",
    "plt.plot(average_recall_df_id_musicnn, average_precision_df_id_musicnn, label = 'id_musicNN')\n",
    "plt.text(average_recall_df_id_musicnn[-15], average_precision_df_id_musicnn[-15], 'id_musicnn')\n",
    "plt.plot(average_recall_df_id_incp, average_precision_df_id_incp, label = 'id_incp')\n",
    "plt.plot(average_recall_df_id_resnet, average_precision_df_id_resnet, label = 'id_resnet')\n",
    "plt.plot(average_recall_df_id_vgg19, average_precision_df_id_vgg19, label = 'id_vgg19')\n",
    "\n",
    "plt.xlabel('Recall')\n",
    "plt.ylabel('Precision')\n",
    "plt.title('Precision-Recall Curve for All Retrieval Systems')\n",
    "plt.legend(fontsize = 'small')\n",
    "plt.grid(True)\n",
    "plt.show()"
   ]
  },
  {
   "cell_type": "markdown",
   "id": "3e2324ea",
   "metadata": {},
   "source": [
    "## Precision - Recall plot for text-baset retreival systems"
   ]
  },
  {
   "cell_type": "code",
   "execution_count": null,
   "id": "98b03fae",
   "metadata": {},
   "outputs": [],
   "source": [
    "plt.plot(average_recall_df_word2vec, average_precision_df_word2vec, label = 'Word2vec')\n",
    "plt.plot(average_recall_df_tfidf, average_precision_df_tfidf, label = 'Cosine Similarity: Tf-Idf')\n",
    "plt.plot(average_recall_df_jaccard_tfidf, average_precision_df_jaccard_tfidf, label = 'Jaccard Similarity: Tf-Idf')\n",
    "\n",
    "\n",
    "plt.xlabel('Recall')\n",
    "plt.ylabel('Precision')\n",
    "plt.title('Precision-Recall Curve for Text-based Retrieval Systems')\n",
    "plt.legend()\n",
    "plt.grid(True)\n",
    "plt.show()"
   ]
  },
  {
   "cell_type": "markdown",
   "id": "e7e1beb8",
   "metadata": {},
   "source": [
    "## Precision - Recall plot Audio-based Retrieval systems"
   ]
  },
  {
   "cell_type": "code",
   "execution_count": null,
   "id": "692305b0",
   "metadata": {},
   "outputs": [],
   "source": [
    "#Audio-based plots\n",
    "\n",
    "plt.plot(average_recall_df_mfcc_bow, average_precision_df_mfcc_bow, label = 'MFCC-BoW')\n",
    "plt.plot(average_recall_df_id_ivec256, average_precision_df_id_ivec256, label = 'id_ivec256')\n",
    "plt.plot(average_recall_df_blf_spectral, average_precision_df_blf_spectral, label = 'Blf-spectral')\n",
    "plt.plot(average_recall_df_id_musicnn, average_precision_df_id_musicnn, label = 'id_musicNN')\n",
    "\n",
    "plt.xlabel('Recall')\n",
    "plt.ylabel('Precision')\n",
    "plt.title('Precision-Recall Curve for Audio-based Retrieval Systems')\n",
    "plt.legend()\n",
    "plt.grid(True)\n",
    "plt.show()"
   ]
  },
  {
   "cell_type": "markdown",
   "id": "f4f6fbf2",
   "metadata": {},
   "source": [
    "## Precision - Recall Video-based Retrieval Systems"
   ]
  },
  {
   "cell_type": "code",
   "execution_count": null,
   "id": "28f63d90",
   "metadata": {},
   "outputs": [],
   "source": [
    "#Video-based plots\n",
    "\n",
    "plt.plot(average_recall_df_id_incp, average_precision_df_id_incp, label = 'id_incp')\n",
    "plt.plot(average_recall_df_id_resnet, average_precision_df_id_resnet, label = 'id_resnet')\n",
    "plt.plot(average_recall_df_id_vgg19, average_precision_df_id_vgg19, label = 'id_vgg19')\n",
    "\n",
    "plt.xlabel('Recall')\n",
    "plt.ylabel('Precision')\n",
    "plt.title('Precision-Recall Curve for Video-based Retrieval Systems')\n",
    "plt.legend()\n",
    "plt.grid(True)\n",
    "plt.show()"
   ]
  },
  {
   "cell_type": "markdown",
   "id": "509add36",
   "metadata": {},
   "source": [
    "## Precision @10 and Recall @10"
   ]
  },
  {
   "cell_type": "code",
   "execution_count": null,
   "id": "29782385",
   "metadata": {},
   "outputs": [],
   "source": [
    "# Data\n",
    "models = ['word2vec', 'cosine - tfidf', 'jaccard - tfidf', 'mfcc_bow', 'id_ivec256',\n",
    "        'blf_spectral', 'id_musicnn', 'id_incp', 'id_resnet', 'id_vgg19']\n",
    "precision_results = [\n",
    "    average_precision_df_word2vec[9],\n",
    "    average_precision_df_tfidf[9],\n",
    "    average_precision_df_jaccard_tfidf[9],\n",
    "    average_precision_df_mfcc_bow[9],\n",
    "    average_precision_df_id_ivec256[9],\n",
    "    average_precision_df_blf_spectral[9],\n",
    "    average_precision_df_id_musicnn[9],\n",
    "    average_precision_df_id_incp[9],\n",
    "    average_precision_df_id_resnet[9],\n",
    "    average_precision_df_id_vgg19[9]]\n",
    "recall_results = [\n",
    "    average_recall_df_word2vec[9],\n",
    "    average_recall_df_tfidf[9],\n",
    "    average_recall_df_jaccard_tfidf[9],\n",
    "    average_recall_df_mfcc_bow[9],\n",
    "    average_recall_df_id_ivec256[9],\n",
    "    average_recall_df_blf_spectral[9],\n",
    "    average_recall_df_id_musicnn[9],\n",
    "    average_recall_df_id_incp[9],\n",
    "    average_recall_df_id_resnet[9],\n",
    "    average_recall_df_id_vgg19[9]\n",
    "]\n",
    "\n",
    "\n",
    "input = {'RS - Model': models, 'Precision@10': precision_results, 'Recall@10': recall_results}\n",
    "recall_precison_df_at_10 = pd.DataFrame(input)\n",
    "\n",
    "recall_precison_df_at_10.set_index('RS - Model', inplace=True)\n",
    "\n",
    "print(recall_precison_df_at_10)"
   ]
  },
  {
   "cell_type": "markdown",
   "id": "122f27d9",
   "metadata": {},
   "source": [
    "### Experimenting with coverage, it wasn't run with this code in the end for the list of queries but with the final Codebook+Interactive_Display code"
   ]
  },
  {
   "cell_type": "markdown",
   "id": "811838b9",
   "metadata": {},
   "source": [
    "### Coverage"
   ]
  },
  {
   "cell_type": "code",
   "execution_count": null,
   "id": "4e378899",
   "metadata": {},
   "outputs": [],
   "source": [
    "def calculate_genre_coverage(retrieved_tracks, data_id_genres, top_n=10):\n",
    "\n",
    "    top_tracks = retrieved_tracks.head(top_n)\n",
    "    \n",
    "    unique_genres_in_top_tracks = set(top_tracks['genre'].explode().unique())\n",
    "\n",
    "    all_unique_genres = set(data_id_genres['genre'].explode().unique())\n",
    "    \n",
    "    genre_coverage = len(unique_genres_in_top_tracks) / len(all_unique_genres)\n",
    "\n",
    "    return genre_coverage\n",
    "\n",
    "\n",
    "from tqdm import tqdm\n",
    "\n",
    "def calculate_genre_coverage_for_all_methods(song_id, info_data, retrieval_methods, top_n=10095):\n",
    "    metrics = {}\n",
    "\n",
    "    # Get the set of all unique genres in the dataset\n",
    "    all_unique_genres = set(data_id_genres['genre'].explode().unique())\n",
    "\n",
    "    # Iterate over each retrieval method\n",
    "    for method_name, method_data in retrieval_methods.items():\n",
    "        # Retrieve songs using the current method\n",
    "        retrieved_songs = retrieve_similar_songs(song_id, method_data['data'], method_data['function'], info_data, top_n)\n",
    "\n",
    "        # Initialize an empty DataFrame\n",
    "        retrieved = pd.DataFrame()\n",
    "\n",
    "        # Create a progress bar for the loop\n",
    "        with tqdm(total=len(retrieved_songs)) as pbar:\n",
    "            for song_id in retrieved_songs['id']:\n",
    "                try:\n",
    "                    # Attempt to retrieve the genre data for the current ID\n",
    "                    genre_data = data_id_genres.loc[[song_id]]\n",
    "                    retrieved = pd.concat([retrieved, genre_data])\n",
    "                except KeyError:\n",
    "                    # Skip if the ID is not found\n",
    "                    print(f\"ID {song_id} not found in data_id_genres. Skipping.\")\n",
    "                    continue\n",
    "\n",
    "                # Update the progress bar\n",
    "                pbar.update(1)\n",
    "\n",
    "        # Calculate unique genres in the retrieved tracks\n",
    "        unique_genres_in_retrieved = set(retrieved['genre'].explode().unique())\n",
    "\n",
    "        # Calculate genre coverage\n",
    "        genre_coverage = len(unique_genres_in_retrieved) / len(all_unique_genres)\n",
    "\n",
    "        # Store the result\n",
    "        metrics[method_name] = genre_coverage\n",
    "\n",
    "    return metrics\n",
    "\n",
    "\n",
    "calculate_genre_coverage_for_all_methods('01gyRHLquwXDlhkO', info_data, retrieval_methods, top_n=10)"
   ]
  }
 ],
 "metadata": {
  "kernelspec": {
   "display_name": "Python 3 (ipykernel)",
   "language": "python",
   "name": "python3"
  },
  "language_info": {
   "codemirror_mode": {
    "name": "ipython",
    "version": 3
   },
   "file_extension": ".py",
   "mimetype": "text/x-python",
   "name": "python",
   "nbconvert_exporter": "python",
   "pygments_lexer": "ipython3",
   "version": "3.11.5"
  }
 },
 "nbformat": 4,
 "nbformat_minor": 5
}
